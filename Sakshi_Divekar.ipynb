{
  "nbformat": 4,
  "nbformat_minor": 0,
  "metadata": {
    "colab": {
      "name": "Sakshi_Divekar.ipynb",
      "provenance": [],
      "collapsed_sections": []
    },
    "kernelspec": {
      "name": "python3",
      "display_name": "Python 3"
    },
    "language_info": {
      "name": "python"
    }
  },
  "cells": [
    {
      "cell_type": "code",
      "metadata": {
        "colab": {
          "base_uri": "https://localhost:8080/"
        },
        "id": "G38NjVrYad09",
        "outputId": "1f85c6bc-8ac8-4d75-b621-2bd8dad4a24a"
      },
      "source": [
        "import requests\n",
        "#import os\n",
        "from datetime import datetime\n",
        "\n",
        "api_key = '87d845b0b6cf29baa1a73cc34b067a95'\n",
        "location = input(\"Enter the city name: \")\n",
        "\n",
        "complete_api_link = \"https://api.openweathermap.org/data/2.5/weather?q=\"+location+\"&appid=\"+api_key\n",
        "api_link = requests.get(complete_api_link)\n",
        "api_data = api_link.json()\n",
        "\n",
        "#create variables to store and display data\n",
        "temp_city = ((api_data['main']['temp']) - 273.15)\n",
        "weather_desc = api_data['weather'][0]['description']\n",
        "hmdt = api_data['main']['humidity']\n",
        "wind_spd = api_data['wind']['speed']\n",
        "date_time = datetime.now().strftime(\"%d %b %Y | %I:%M:%S %p\")\n",
        "\n",
        "print (\"-------------------------------------------------------------\")\n",
        "print (\"Weather Stats for - {}  || {}\".format(location.upper(), date_time))\n",
        "print (\"-------------------------------------------------------------\")\n",
        "\n",
        "print (\"Current temperature is: {:.2f} deg C\".format(temp_city))\n",
        "print (\"Current weather desc  :\",weather_desc)\n",
        "print (\"Current Humidity      :\",hmdt, '%')\n",
        "print (\"Current wind speed    :\",wind_spd ,'kmph')\n",
        "\n",
        "print(\"====================================================\")\n",
        "\n",
        "\n",
        "# making a list so that i can print the info to a txt \n",
        "txtlist = [temp_city,weather_desc,hmdt,wind_spd,date_time]\n",
        "#using open() buit-in function to write to a text file\n",
        "with open(\"textfile.txt\" , mode= 'w' ,encoding= 'utf-8') as f :     \n",
        "                                     #encoding = utf-8 for linux and cp1252 for win\n",
        "    f.write(\"------------------------------------------------------------- \\n \")   \n",
        "    f.write(\"Weather Stats for - {}  || {}\".format(location.upper(), date_time))\n",
        "    f.write(\"\\n ------------------------------------------------------------- \\n\")\n",
        "    f.write(\"Current temperature is: {:.2f} deg C\\n\".format(txtlist[0]))\n",
        "    \n",
        "    f.write(\"{},{} \\n\".format(\"Current weather desc  :\" ,txtlist[1]))\n",
        "    f.write(\"{},{},{} \\n\".format(\"Current Humidity      :\",txtlist[2],\"%\"))\n",
        "    f.write(\"{},{},{} \\n\".format(\"Current wind speed    :\",txtlist[3],\"kmph\"))\n",
        "    f.write(\"====================================================\")"
      ],
      "execution_count": 1,
      "outputs": [
        {
          "output_type": "stream",
          "text": [
            "Enter the city name: new york city\n",
            "-------------------------------------------------------------\n",
            "Weather Stats for - NEW YORK CITY  || 27 Jul 2021 | 10:05:07 AM\n",
            "-------------------------------------------------------------\n",
            "Current temperature is: 22.34 deg C\n",
            "Current weather desc  : clear sky\n",
            "Current Humidity      : 74 %\n",
            "Current wind speed    : 0 kmph\n",
            "====================================================\n"
          ],
          "name": "stdout"
        }
      ]
    }
  ]
}